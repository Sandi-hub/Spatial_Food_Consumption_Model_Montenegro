{
 "cells": [
  {
   "cell_type": "markdown",
   "source": [
    "# Geocoding of Outbreak Cases"
   ],
   "metadata": {}
  },
  {
   "cell_type": "code",
   "execution_count": null,
   "source": [
    "import os\r\n",
    "import pathlib\r\n",
    "import arcpy\r\n",
    "from arcgis.gis import GIS\r\n",
    "from getpass import getpass\r\n",
    "import pandas as pd"
   ],
   "outputs": [],
   "metadata": {}
  },
  {
   "cell_type": "markdown",
   "source": [
    "### Requirements for the Excel File that contains the outbreak data:\r\n",
    "- Make sure that the sheet contains the headinga \"Street\", \"ZIP\" and \"City\" written exactly like this in the first row of the file\r\n",
    "- Make sure the Sheet where the data is stored is called \"Sheet1\".\r\n",
    "- Make sure that the file is stored at the same location as this script and is named \"Artificial_Outbreak.xlsx\". If that is not the case you have to set the variable \"input_file\" to the according location.\r\n",
    "\r\n",
    "### What you need to change in this script:\r\n",
    "- set the workspace to your current default Geodatabase\r\n",
    "- change the username to your username for the ArcGIS platform. After executing the following code snippet you will be asked to enter your password. It is necessary to sign in before executing the code below because geocoding locations consumes credits. \r\n"
   ],
   "metadata": {}
  },
  {
   "cell_type": "code",
   "execution_count": null,
   "source": [
    "workspace = r\"C:\\Users\\srude\\Documents\\ArcGIS\\Projects\\Spatial Food Consumption Model Montenegro\\Spatial Food Consumption Model Montenegro.gdb\"\r\n",
    "password = getpass()\r\n",
    "gis = GIS(\"http://www.arcgis.com\", 'Sandra_Rudeloff', password)"
   ],
   "outputs": [],
   "metadata": {}
  },
  {
   "cell_type": "markdown",
   "source": [
    "It is assumed that the Excel file containing the outbreak locations is stored at the same location as this script and is named \"Artificial_Outbreak.xlsx\". If that is not the case you have to set the variable \"input_file\" to the according location."
   ],
   "metadata": {}
  },
  {
   "cell_type": "code",
   "execution_count": null,
   "source": [
    "dirname = pathlib.Path().resolve()\r\n",
    "input_file = os.path.join(dirname, 'Artificial_Outbreak.xlsx')"
   ],
   "outputs": [],
   "metadata": {}
  },
  {
   "cell_type": "code",
   "execution_count": null,
   "source": [
    "data = pd.read_excel(input_file, sheet_name='Sheet1')\r\n",
    "data.head(10)"
   ],
   "outputs": [],
   "metadata": {}
  },
  {
   "cell_type": "code",
   "execution_count": null,
   "source": [
    "address_locator = \"https://geocode.arcgis.com/arcgis/rest/services/World/GeocodeServer/ArcGIS World Geocoding Service\"\r\n",
    "address_fields  = (\"Address Street VISIBLE NONE; Address2 <None> VISIBLE NONE; Address3 <None> VISIBLE NONE;\" +\r\n",
    "                \"Neighborhood <None> VISIBLE NONE; City City VISIBLE NONE; Subregion <None> VISIBLE NONE;\" \r\n",
    "                + \"Region <None> VISIBLE NONE; ZIP ZIP ZIP VISIBLE NONE; ZIP4 <None> VISIBLE NONE;\" +\r\n",
    "                \"Country <None> VISIBLE NONE\")"
   ],
   "outputs": [],
   "metadata": {}
  },
  {
   "cell_type": "code",
   "execution_count": null,
   "source": [
    "geocode_result = workspace + \"/artificial_outbreak\"\r\n",
    "\r\n",
    "arcpy.GeocodeAddresses_geocoding(in_table = data, address_locator = address_locator,in_address_fields = address_fields, out_feature_class= geocode_result,\r\n",
    "                                 out_relationship_type = 'STATIC', country = 'MNE', location_type = 'ROUTING LOCATION', output_fields = 'MINIMAL')"
   ],
   "outputs": [],
   "metadata": {}
  },
  {
   "cell_type": "markdown",
   "source": [
    "# Algorithm to detect the most susceptible source"
   ],
   "metadata": {}
  }
 ],
 "metadata": {
  "orig_nbformat": 4,
  "language_info": {
   "name": "python",
   "version": "3.7.10",
   "mimetype": "text/x-python",
   "codemirror_mode": {
    "name": "ipython",
    "version": 3
   },
   "pygments_lexer": "ipython3",
   "nbconvert_exporter": "python",
   "file_extension": ".py"
  },
  "kernelspec": {
   "name": "python3",
   "display_name": "Python 3.7.10 64-bit ('arcgispro-py3': conda)"
  },
  "interpreter": {
   "hash": "ca605c3f112604b983d98a5d91388c739e0f520e83f9f81c3c403147511b289a"
  }
 },
 "nbformat": 4,
 "nbformat_minor": 2
}