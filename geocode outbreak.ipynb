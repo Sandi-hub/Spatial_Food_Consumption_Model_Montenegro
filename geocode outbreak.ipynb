{
 "cells": [
  {
   "cell_type": "markdown",
   "source": [
    "# Geocoding of Outbreak Cases"
   ],
   "metadata": {}
  },
  {
   "cell_type": "markdown",
   "source": [
    "### Requirements for the Excel File that contains the outbreak data:\r\n",
    "- Make sure that the sheet contains the headinga \"Street\", \"ZIP\" and \"City\" written exactly like this in the first row of the file\r\n",
    "- Make sure the Sheet where the data is stored is called \"Sheet1\".\r\n",
    "- Make sure that the file is stored at the same location as this script and is named \"Artificial_Outbreak.xlsx\". If that is not the case you have to set the variable \"input_file\" to the according location.\r\n",
    "\r\n",
    "### What you need to customize in this script:\r\n",
    "- Set the Workspace of the ArcGIS project (Options > Current Setting > Default geodatabase)\r\n",
    "- change the username to your username for the ArcGIS platform. After executing the following code snippet you will be asked to enter your password. It is necessary to sign in before executing the code thereafter because geocoding locations consumes credits. \r\n",
    "\r\n",
    "#### [Markdown Guide](https://www.markdownguide.org/basic-syntax/)"
   ],
   "metadata": {}
  },
  {
   "cell_type": "code",
   "execution_count": null,
   "source": [
    "import os\r\n",
    "import pathlib\r\n",
    "import arcpy\r\n",
    "from arcgis.gis import GIS\r\n",
    "from getpass import getpass\r\n",
    "import pandas as pd"
   ],
   "outputs": [],
   "metadata": {}
  },
  {
   "cell_type": "code",
   "execution_count": null,
   "source": [
    "workspace = 'C:/Users/srude/Documents/ArcGIS/Projects/Spatial Food Consumption Model Montenegro/Spatial Food Consumption Model Montenegro.gdb'\r\n",
    "password = getpass()\r\n",
    "gis = GIS(\"http://www.arcgis.com\", 'Sandra_Rudeloff', password)"
   ],
   "outputs": [],
   "metadata": {}
  },
  {
   "cell_type": "code",
   "execution_count": null,
   "source": [
    "dirname = pathlib.Path().resolve()\r\n",
    "input_file = os.path.join(dirname, 'Artificial_Outbreak.xlsx')"
   ],
   "outputs": [],
   "metadata": {}
  },
  {
   "cell_type": "code",
   "execution_count": null,
   "source": [
    "data = pd.read_excel(input_file, sheet_name='Sheet1')\r\n",
    "data.head(10)"
   ],
   "outputs": [],
   "metadata": {}
  },
  {
   "cell_type": "code",
   "execution_count": null,
   "source": [
    "address_locator = \"https://geocode.arcgis.com/arcgis/rest/services/World/GeocodeServer/ArcGIS World Geocoding Service\"\r\n",
    "address_fields  = (\"Address Street VISIBLE NONE; Address2 <None> VISIBLE NONE; Address3 <None> VISIBLE NONE;\" +\r\n",
    "                \"Neighborhood <None> VISIBLE NONE; City City VISIBLE NONE; Subregion <None> VISIBLE NONE;\" \r\n",
    "                + \"Region <None> VISIBLE NONE; ZIP ZIP ZIP VISIBLE NONE; ZIP4 <None> VISIBLE NONE;\" +\r\n",
    "                \"Country <None> VISIBLE NONE\")"
   ],
   "outputs": [],
   "metadata": {}
  },
  {
   "cell_type": "markdown",
   "source": [
    "**TODO**: Hier könnte man noch prüfen, wie gut das geocoding funktioniert hat"
   ],
   "metadata": {}
  },
  {
   "cell_type": "code",
   "execution_count": null,
   "source": [
    "outbreak = workspace + \"/artificial_outbreak2\"\r\n",
    "\r\n",
    "arcpy.GeocodeAddresses_geocoding(in_table = data, address_locator = address_locator,in_address_fields = address_fields, out_feature_class= outbreak,\r\n",
    "                                 out_relationship_type = 'STATIC', country = 'MNE', location_type = 'ROUTING LOCATION', output_fields = 'MINIMAL')"
   ],
   "outputs": [],
   "metadata": {}
  },
  {
   "cell_type": "markdown",
   "source": [
    "# Algorithm to detect the most susceptible source"
   ],
   "metadata": {}
  },
  {
   "cell_type": "markdown",
   "source": [
    " Set the array of patterns to compare (names of the layers); in this case supermarkets"
   ],
   "metadata": {}
  },
  {
   "cell_type": "code",
   "execution_count": null,
   "source": [
    "supermarkets = [\"HDL\", \"Franca\", \"Aroma\", \"Voli\", \"Idea\"]\r\n",
    "df_distances = pd.DataFrame(columns = [\"Supermarket_Chain\", \"Outbreak Case\", \"Chain Store\", \"Distance\"])"
   ],
   "outputs": [],
   "metadata": {}
  },
  {
   "cell_type": "markdown",
   "source": [
    "**TODO**: Check what is the difference between Geodesic and Planar \r\n",
    "\r\n",
    "**PLANAR**—Uses planar distances between the features. This is the default. </br>\r\n",
    "**GEODESIC** —Uses geodesic distances between features. This method takes into account the curvature of the spheroid and correctly deals with data near the dateline and poles\r\n",
    "\r\n",
    "[Generate Near Table](https://pro.arcgis.com/en/pro-app/latest/tool-reference/analysis/generate-near-table.htm)"
   ],
   "metadata": {}
  },
  {
   "cell_type": "code",
   "execution_count": null,
   "source": [
    "arcpy.env.overwriteOutput = True\r\n",
    "\r\n",
    "def calculate_closest():\r\n",
    "    index = 1 \r\n",
    "    \r\n",
    "    # calculate the distance of the outbreak case to the nearest supermarket of each chain defined in the array supermarkets\r\n",
    "    for supermarket in supermarkets:\r\n",
    "        arcpy.GenerateNearTable_analysis(outbreak, (workspace+'/'+ supermarket), r'memory\\tempOutput', \r\n",
    "        location= \"NO_LOCATION\", angle= \"NO_ANGLE\", closest=\"CLOSEST\", method= \"Geodesic\"\r\n",
    "        )\r\n",
    "\r\n",
    "       # write result in dataframe\r\n",
    "        with arcpy.da.SearchCursor(r'memory\\tempOutput', [\"IN_FID\",\"NEAR_FID\", \"NEAR_DIST\"]) as cursor:\r\n",
    "            for row in cursor:\r\n",
    "                df_distances.loc[index] =[supermarket, row[0], row[1], row[2]]\r\n",
    "                index = index + 1\r\n",
    "    arcpy.Delete_management(r'memory\\tempOutput')\r\n",
    "    print(df_distances)\r\n",
    "\r\n",
    "calculate_closest()"
   ],
   "outputs": [],
   "metadata": {}
  },
  {
   "cell_type": "code",
   "execution_count": null,
   "source": [
    "df_new = df_distances.groupby('Supermarket_Chain').sum()\r\n",
    "print (df_new)"
   ],
   "outputs": [],
   "metadata": {}
  },
  {
   "cell_type": "markdown",
   "source": [
    "**TODO**: Put a logic that excludes if there is a 0 Value"
   ],
   "metadata": {}
  }
 ],
 "metadata": {
  "orig_nbformat": 4,
  "language_info": {
   "name": "python",
   "version": "3.7.10",
   "mimetype": "text/x-python",
   "codemirror_mode": {
    "name": "ipython",
    "version": 3
   },
   "pygments_lexer": "ipython3",
   "nbconvert_exporter": "python",
   "file_extension": ".py"
  },
  "kernelspec": {
   "name": "python3",
   "display_name": "Python 3.7.10 64-bit ('arcgispro-py3': conda)"
  },
  "interpreter": {
   "hash": "ca605c3f112604b983d98a5d91388c739e0f520e83f9f81c3c403147511b289a"
  }
 },
 "nbformat": 4,
 "nbformat_minor": 2
}