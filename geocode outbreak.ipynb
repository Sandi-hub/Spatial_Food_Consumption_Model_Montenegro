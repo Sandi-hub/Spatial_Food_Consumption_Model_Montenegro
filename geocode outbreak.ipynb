{
 "cells": [
  {
   "cell_type": "markdown",
   "source": [
    "# Geocoding of Outbreak Cases"
   ],
   "metadata": {}
  },
  {
   "cell_type": "markdown",
   "source": [
    "### Requirements for the Excel File that contains the outbreak data:\r\n",
    "- Make sure that the sheet contains the headinga \"Street\", \"ZIP\" and \"City\" written exactly like this in the first row of the file\r\n",
    "- Make sure the Sheet where the data is stored is called \"Sheet1\".\r\n",
    "- Make sure that the file is stored at the same location as this script and is named \"Artificial_Outbreak.xlsx\". If that is not the case you have to set the variable \"input_file\" to the according location.\r\n",
    "\r\n",
    "### What you need to customize in this script:\r\n",
    "- Set the Workspace of the ArcGIS project (Options > Current Setting > Default geodatabase)\r\n",
    "- change the username to your username for the ArcGIS platform. After executing the following code snippet you will be asked to enter your password. It is necessary to sign in before executing the code thereafter because geocoding locations consumes credits. \r\n",
    "\r\n",
    "#### [Markdown Guide](https://www.markdownguide.org/basic-syntax/)"
   ],
   "metadata": {}
  },
  {
   "cell_type": "code",
   "execution_count": null,
   "source": [
    "import os\r\n",
    "import pathlib\r\n",
    "import arcpy\r\n",
    "from arcgis.gis import GIS\r\n",
    "from getpass import getpass\r\n",
    "import pandas as pd"
   ],
   "outputs": [],
   "metadata": {}
  },
  {
   "cell_type": "code",
   "execution_count": null,
   "source": [
    "workspace = 'C:/Users/srude/Documents/ArcGIS/Projects/Spatial Food Consumption Model Montenegro/Spatial Food Consumption Model Montenegro.gdb'\r\n",
    "password = getpass()\r\n",
    "gis = GIS(\"http://www.arcgis.com\", 'Sandra_Rudeloff', password)"
   ],
   "outputs": [],
   "metadata": {}
  },
  {
   "cell_type": "code",
   "execution_count": null,
   "source": [
    "dirname = pathlib.Path().resolve()\r\n",
    "input_file = os.path.join(dirname, 'Artificial_Outbreak.xlsx')"
   ],
   "outputs": [],
   "metadata": {}
  },
  {
   "cell_type": "code",
   "execution_count": null,
   "source": [
    "data = pd.read_excel(input_file, sheet_name='Sheet1')\r\n",
    "data.head(10)"
   ],
   "outputs": [],
   "metadata": {}
  },
  {
   "cell_type": "code",
   "execution_count": null,
   "source": [
    "address_locator = \"https://geocode.arcgis.com/arcgis/rest/services/World/GeocodeServer/ArcGIS World Geocoding Service\"\r\n",
    "address_fields  = (\"Address Street VISIBLE NONE; Address2 <None> VISIBLE NONE; Address3 <None> VISIBLE NONE;\" +\r\n",
    "                \"Neighborhood <None> VISIBLE NONE; City City VISIBLE NONE; Subregion <None> VISIBLE NONE;\" \r\n",
    "                + \"Region <None> VISIBLE NONE; ZIP ZIP ZIP VISIBLE NONE; ZIP4 <None> VISIBLE NONE;\" +\r\n",
    "                \"Country <None> VISIBLE NONE\")"
   ],
   "outputs": [],
   "metadata": {}
  },
  {
   "cell_type": "markdown",
   "source": [
    "**TODO**: Hier könnte man noch prüfen, wie gut das geocoding funktioniert hat"
   ],
   "metadata": {}
  },
  {
   "cell_type": "code",
   "execution_count": null,
   "source": [
    "outbreak = workspace + \"/artificial_outbreak2\"\r\n",
    "\r\n",
    "arcpy.GeocodeAddresses_geocoding(in_table = data, address_locator = address_locator,in_address_fields = address_fields, out_feature_class= outbreak,\r\n",
    "                                 out_relationship_type = 'STATIC', country = 'MNE', location_type = 'ROUTING LOCATION', output_fields = 'MINIMAL')"
   ],
   "outputs": [],
   "metadata": {}
  },
  {
   "cell_type": "markdown",
   "source": [
    "# Algorithm to detect the most susceptible source"
   ],
   "metadata": {}
  },
  {
   "cell_type": "markdown",
   "source": [
    " Set the array of patterns to compare (names of the layers); in this case supermarkets"
   ],
   "metadata": {}
  },
  {
   "cell_type": "code",
   "execution_count": null,
   "source": [
    "supermarkets = [\"HDL\", \"Franca\", \"Aroma\", \"Voli\", \"Idea\"]\r\n",
    "df_distances = pd.DataFrame(columns = [\"Supermarket_Chain\", \"Outbreak Case\", \"Chain Store\", \"Distance\"])"
   ],
   "outputs": [],
   "metadata": {}
  },
  {
   "cell_type": "markdown",
   "source": [
    "**TODO**: Check what is the difference between Geodesic and Planar \r\n",
    "\r\n",
    "**PLANAR**—Uses planar distances between the features. This is the default. </br>\r\n",
    "**GEODESIC** —Uses geodesic distances between features. This method takes into account the curvature of the spheroid and correctly deals with data near the dateline and poles\r\n",
    "\r\n",
    "[Generate Near Table](https://pro.arcgis.com/en/pro-app/latest/tool-reference/analysis/generate-near-table.htm)"
   ],
   "metadata": {}
  },
  {
   "cell_type": "code",
   "execution_count": 40,
   "source": [
    "arcpy.env.overwriteOutput = True\r\n",
    "\r\n",
    "def calculate_closest():\r\n",
    "    index = 1 \r\n",
    "    \r\n",
    "    # calculate the distance of the outbreak case to the nearest supermarket of each chain defined in the array supermarkets\r\n",
    "    for supermarket in supermarkets:\r\n",
    "        arcpy.GenerateNearTable_analysis(outbreak, (workspace+'/'+ supermarket), r'memory\\tempOutput', \r\n",
    "        location= \"NO_LOCATION\", angle= \"NO_ANGLE\", closest=\"CLOSEST\", method= \"Geodesic\"\r\n",
    "        )\r\n",
    "\r\n",
    "       # write result in dataframe\r\n",
    "        with arcpy.da.SearchCursor(r'memory\\tempOutput', [\"IN_FID\",\"NEAR_FID\", \"NEAR_DIST\"]) as cursor:\r\n",
    "            for row in cursor:\r\n",
    "                df_distances.loc[index] =[supermarket, row[0], row[1], row[2]]\r\n",
    "                index = index + 1\r\n",
    "    arcpy.Delete_management(r'memory\\tempOutput')\r\n",
    "    print(df_distances)\r\n",
    "\r\n",
    "calculate_closest()"
   ],
   "outputs": [
    {
     "output_type": "stream",
     "name": "stdout",
     "text": [
      "   Supermarket_Chain Outbreak Case Chain Store     Distance\n",
      "1                HDL             1           3  1793.477053\n",
      "2                HDL             2           1  1416.929901\n",
      "3                HDL             3           3  1081.899089\n",
      "4                HDL             4           4  2437.292858\n",
      "5                HDL             5           3  1407.057989\n",
      "6                HDL             6           4  2142.854335\n",
      "7                HDL             7           3  1730.225316\n",
      "8                HDL             8          11   987.172242\n",
      "9                HDL             9           4  1921.958580\n",
      "10               HDL            10           1  1970.253284\n",
      "11            Franca             1          26   476.882091\n",
      "12            Franca             2          29   517.667448\n",
      "13            Franca             3          27   424.970236\n",
      "14            Franca             4          27   979.516616\n",
      "15            Franca             5          29  1588.970025\n",
      "16            Franca             6          27   789.405208\n",
      "17            Franca             7          27  3229.328600\n",
      "18            Franca             8          28   257.111825\n",
      "19            Franca             9          27   724.784512\n",
      "20            Franca            10          29   461.582242\n",
      "21             Aroma             1          30   445.145458\n",
      "22             Aroma             2          34   153.603725\n",
      "23             Aroma             3          48   256.668625\n",
      "24             Aroma             4          47   135.696737\n",
      "25             Aroma             5          42   506.951567\n",
      "26             Aroma             6          47   497.431668\n",
      "27             Aroma             7          42  2141.977246\n",
      "28             Aroma             8          49   133.613302\n",
      "29             Aroma             9          33   631.877597\n",
      "30             Aroma            10          45   148.607986\n",
      "31              Voli             1          12   635.148692\n",
      "32              Voli             2          42   481.080302\n",
      "33              Voli             3          55   515.921412\n",
      "34              Voli             4          57   213.506883\n",
      "35              Voli             5          25  1214.185255\n",
      "36              Voli             6          57   357.464644\n",
      "37              Voli             7          36  1792.863130\n",
      "38              Voli             8           2   890.156145\n",
      "39              Voli             9          57   679.745059\n",
      "40              Voli            10          54   101.556122\n",
      "41              Idea             1          87   288.539866\n",
      "42              Idea             2         103   400.692839\n",
      "43              Idea             3          88   265.842273\n",
      "44              Idea             4         102   161.614731\n",
      "45              Idea             5          91   133.475558\n",
      "46              Idea             6         102   525.256324\n",
      "47              Idea             7          86  1248.695413\n",
      "48              Idea             8         108   527.289345\n",
      "49              Idea             9          93   395.937450\n",
      "50              Idea            10         103   305.632878\n"
     ]
    }
   ],
   "metadata": {}
  },
  {
   "cell_type": "code",
   "execution_count": 41,
   "source": [
    "df_new = df_distances.groupby('Supermarket_Chain').sum()\r\n",
    "print (df_new)"
   ],
   "outputs": [
    {
     "output_type": "stream",
     "name": "stdout",
     "text": [
      "                       Distance\n",
      "Supermarket_Chain              \n",
      "Aroma               5051.573911\n",
      "Franca              9450.218803\n",
      "HDL                16889.120647\n",
      "Idea                4252.976677\n",
      "Voli                6881.627644\n"
     ]
    }
   ],
   "metadata": {}
  },
  {
   "cell_type": "markdown",
   "source": [
    "Put a logic that excludes if there is a 0 Value"
   ],
   "metadata": {}
  }
 ],
 "metadata": {
  "orig_nbformat": 4,
  "language_info": {
   "name": "python",
   "version": "3.7.10",
   "mimetype": "text/x-python",
   "codemirror_mode": {
    "name": "ipython",
    "version": 3
   },
   "pygments_lexer": "ipython3",
   "nbconvert_exporter": "python",
   "file_extension": ".py"
  },
  "kernelspec": {
   "name": "python3",
   "display_name": "Python 3.7.10 64-bit ('arcgispro-py3': conda)"
  },
  "interpreter": {
   "hash": "ca605c3f112604b983d98a5d91388c739e0f520e83f9f81c3c403147511b289a"
  }
 },
 "nbformat": 4,
 "nbformat_minor": 2
}